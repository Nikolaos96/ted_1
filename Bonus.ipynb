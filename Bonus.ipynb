{
 "cells": [
  {
   "cell_type": "markdown",
   "metadata": {},
   "source": [
    "Αικατερίνη Δρακάκη <br>\n",
    "1115201300041 <br>\n",
    "Νικόλαος Μακρυγεώργος <br>\n",
    "1115201500238"
   ]
  },
  {
   "cell_type": "markdown",
   "metadata": {},
   "source": [
    "****\n",
    "****\n",
    "# Bonus  :  Round  - Robin\n",
    "****\n",
    "****"
   ]
  },
  {
   "cell_type": "markdown",
   "metadata": {},
   "source": [
    "Εχουμε 3 κατηγορίες άρα θα έχουμε 3(3-1)/2 = 3  προβληματα. <br>\n",
    "Αυτα θα είναι τα : Positive - Negative,  Positive - Neutral,  Negative - Neutral"
   ]
  },
  {
   "cell_type": "code",
   "execution_count": 3,
   "metadata": {},
   "outputs": [],
   "source": [
    "import nltk\n",
    "import re\n",
    "from wordcloud import WordCloud, STOPWORDS, ImageColorGenerator\n",
    "import matplotlib.pyplot as plt; plt.rcdefaults()\n",
    "import numpy as np\n",
    "from pandas import DataFrame\n",
    "from collections import Counter\n",
    "#nltk.download('all')\n",
    "import pandas as pd #this is how I usually import pandas\n",
    "import sys #only needed to determine Python version number\n",
    "from sklearn.feature_extraction.text import CountVectorizer\n",
    "from sklearn.feature_extraction.text import TfidfVectorizer\n",
    "import random as random\n",
    "import combi\n",
    "from combi import *\n",
    "\n",
    "import warnings\n",
    "warnings.filterwarnings(action='ignore', category=UserWarning, module='gensim')\n",
    "warnings.filterwarnings(\"ignore\", category=DeprecationWarning)\n",
    "\n",
    "import gensim\n",
    "from gensim.models import Word2Vec \n",
    "from gensim.test.utils import common_texts, get_tmpfile\n",
    "from sklearn.linear_model import LogisticRegression\n",
    "from sklearn.neighbors import KNeighborsClassifier\n",
    "from sklearn import svm\n",
    "from sklearn.metrics import f1_score\n",
    "from sklearn.manifold import TSNE\n",
    "\n",
    "from sklearn import metrics\n",
    "from nltk import sent_tokenize     # sentences = sent_tokenize(text)     xorizei se protaseiis   lista me protaseis\n",
    "\n",
    "from nltk import word_tokenize     # tokens = word_tokenize(text)        xorizei to keimeno se lexeis lista me lexeis\n",
    "from collections import Counter      # count = Counter(tokens)    print(count.most_common(10))   emfanizei tis 10 lexeis me tin\n",
    "                                     # megaliteri sixnotita kai poia einai auth  \n",
    "#nltk.download(u'stopwords')\n",
    "from nltk.corpus import stopwords\n",
    "from nltk.stem import StemmerI, RegexpStemmer, LancasterStemmer, ISRIStemmer, PorterStemmer, SnowballStemmer, RSLPStemmer"
   ]
  },
  {
   "cell_type": "markdown",
   "metadata": {},
   "source": [
    "Διαβάζουμε τα τεστ tweets και το συναίσθημα τους.<br>\n",
    "Κάνουμε μικρό καθαρισμό. <br>\n",
    "Βαζουμε τα tweets σε λίστα."
   ]
  },
  {
   "cell_type": "code",
   "execution_count": 4,
   "metadata": {},
   "outputs": [
    {
     "data": {
      "text/plain": [
       "''"
      ]
     },
     "execution_count": 4,
     "metadata": {},
     "output_type": "execute_result"
    }
   ],
   "source": [
    "test_results = []\n",
    "stop__words = set(stopwords.words('english'))\n",
    "with open(\"SemEval2017_task4_subtaskA_test_english_gold.txt\", encoding=\"utf8\" ) as test_results__:\n",
    "    for line in test_results__:\n",
    "        field = line.split()\n",
    "        test_results.append(field[1])\n",
    "\n",
    "#print (len(test_results))\n",
    "\n",
    "str_tweets = \"\"\n",
    "with open(\"test2017.tsv\", encoding=\"utf8\" ) as test_tweets__:\n",
    "    for line in test_tweets__:\n",
    "        field = line.split()\n",
    "        line = line.lower()\n",
    "        list = []\n",
    "        list = line.split()\n",
    "        for i in range(len(list)):\n",
    "            if i > 2 and list[i] not in stop__words and len(list[i]) > 1:\n",
    "                str_tweets+=list[i]\n",
    "                str_tweets+=\" \"\n",
    "        str_tweets+=\"\\n\"\n",
    "        del list[:]\n",
    "        \n",
    "str_tweets = str_tweets.replace('#','').replace('@','').replace('-',' ').replace('@','').replace('!','').replace('?','')\n",
    "str_tweets = str_tweets.replace(',',' ').replace('.','').replace('*',' ').replace(':',' ').replace('(',' ').replace(')',' ')\n",
    "\n",
    "test_tweetList = []\n",
    "test_tweetList = str_tweets.split(\"\\n\")\n",
    "test_tweetList.pop(12284)\n",
    "#print (len(test_tweetList))"
   ]
  },
  {
   "cell_type": "markdown",
   "metadata": {},
   "source": [
    "Διαβάζουμε τα train tweets και το συναίσθημα τους.\n",
    "Κάνουμε καθαρισμό.\n",
    "Βάζουμε τα tweets σε λίστα."
   ]
  },
  {
   "cell_type": "code",
   "execution_count": 3,
   "metadata": {},
   "outputs": [
    {
     "data": {
      "text/plain": [
       "'neutral'"
      ]
     },
     "execution_count": 3,
     "metadata": {},
     "output_type": "execute_result"
    }
   ],
   "source": [
    "small_character_tweets = \"\"\n",
    "results = []\n",
    "stop__words = set(stopwords.words('english'))\n",
    "\n",
    "with open(\"train2017.tsv\", encoding=\"utf8\" ) as file_in_put:\n",
    "    for line in file_in_put:\n",
    "        field = line.split()\n",
    "        results.append(field[2]);\n",
    "        line = line.lower()\n",
    "        list = []\n",
    "        list = line.split()\n",
    "        for i in range(len(list)):\n",
    "            if i > 2 and list[i] not in stop__words and len(list[i]) > 1:\n",
    "                small_character_tweets+=list[i]     \n",
    "                small_character_tweets+=\" \"                \n",
    "        small_character_tweets+=\"\\n\"\n",
    "    del list[:]\n",
    "\n",
    "results.pop(25108)\n",
    "#print (len(results))"
   ]
  },
  {
   "cell_type": "code",
   "execution_count": 4,
   "metadata": {},
   "outputs": [
    {
     "name": "stdout",
     "output_type": "stream",
     "text": [
      "28060\n"
     ]
    }
   ],
   "source": [
    "small_character_tweets = small_character_tweets.replace(',','').replace('-','').replace('_','').replace('<','')\n",
    "small_character_tweets = small_character_tweets.replace('>','').replace('\"  \"\" \"', '').replace('#','')\n",
    "small_character_tweets = small_character_tweets.replace('&','').replace('+','').replace('=','').replace('/','')\n",
    "small_character_tweets = small_character_tweets.replace('(','').replace(')','').replace(':','').replace('!','')\n",
    "small_character_tweets = small_character_tweets.replace('?','').replace(';','').replace('$','')\n",
    "small_character_tweets = small_character_tweets.replace(\"'m\",\" am\").replace('.','')\n",
    "small_character_tweets = small_character_tweets.replace('\"\\\"','').replace('\\\\','').replace('\\'s','').replace('\\'','')\n",
    "small_character_tweets = small_character_tweets.replace('@','').replace('u2019',' ').replace('u002c','')\n",
    "\n",
    "\n",
    "\n",
    "tweets2 = \"\"\n",
    "tweets2 = re.sub(r'(?<=^|(?<=[^a-zA-Z0-9-_\\.]))@([A-Za-z]+[A-Za-z0-9_]+)', r' user ', small_character_tweets)\n",
    "tweets2 = ' '.join(word for word in tweets2.split(' ') if not word.startswith('http'))\n",
    "\n",
    "tweetList = []\n",
    "tweetList = tweets2.split('\\n')        #clean tweets on a list\n",
    "tweetList.pop(len(tweetList)-1)\n",
    "tweetList.pop(25108)                   # itan keno   #################\n",
    "print (len(tweetList))"
   ]
  },
  {
   "cell_type": "markdown",
   "metadata": {},
   "source": [
    "Φτιάχνουμε 6 λίστες όσες και οι κατηγορίες προβλημάτων και για καθε λίστα άλλη μια με το συναίσθημα. <br>\n",
    "Λίστα με τα θετικά και αρνητικά, λίστα με τα θετικά και ουδέτερα και λίστα με τα αρνητικά και ουδέτερα tweets."
   ]
  },
  {
   "cell_type": "code",
   "execution_count": 5,
   "metadata": {},
   "outputs": [],
   "source": [
    "Pos_Neg_tweets = []\n",
    "Pos_Neg_tweets_resul = []\n",
    "\n",
    "Pos_Neu_tweets = []\n",
    "Pos_Neu_tweets_resul = []\n",
    "\n",
    "Neg_Neu_tweets = []\n",
    "Neg_Neu_tweets_resul = []\n",
    "\n",
    "\n",
    "for i in range(len(tweetList)):\n",
    "    if results[i] == \"positive\" or results[i] == \"negative\":\n",
    "        Pos_Neg_tweets.append(tweetList[i])\n",
    "        Pos_Neg_tweets_resul.append(results[i])\n",
    "        \n",
    "    if results[i] == \"positive\" or results[i] == \"neutral\":\n",
    "        Pos_Neu_tweets.append(tweetList[i])\n",
    "        Pos_Neu_tweets_resul.append(results[i])\n",
    "        \n",
    "    if results[i] == \"negative\" or results[i] == \"neutral\":\n",
    "        Neg_Neu_tweets.append(tweetList[i])\n",
    "        Neg_Neu_tweets_resul.append(results[i])"
   ]
  },
  {
   "cell_type": "markdown",
   "metadata": {},
   "source": [
    "χρησιμοποιούμε bag of words   και   KNN\n",
    "*******\n",
    "Κάνουμε Bag of words."
   ]
  },
  {
   "cell_type": "code",
   "execution_count": 6,
   "metadata": {},
   "outputs": [],
   "source": [
    "# Bag of words για θετικά και αρνητικα\n",
    "vectorizer_P_Neg = CountVectorizer(max_features=200)\n",
    "X1 = vectorizer_P_Neg.fit_transform(Pos_Neg_tweets) ####\n",
    "\n",
    "#print(vectorizer_Bag.get_feature_names())\n",
    "#print(X1.toarray())\n",
    "#print (X1.shape)\n",
    "list_vector_P_Neg = X1.toarray()\n",
    "#print (len(list_vector_P_Neg))"
   ]
  },
  {
   "cell_type": "code",
   "execution_count": 7,
   "metadata": {},
   "outputs": [],
   "source": [
    "# Bag of words για θετικά και ουδετερα\n",
    "vectorizer_P_Neu = CountVectorizer(max_features=200)\n",
    "X2 = vectorizer_P_Neu.fit_transform(Pos_Neu_tweets) ###\n",
    "\n",
    "\n",
    "#print (X2.shape)\n",
    "list_vector_P_Neu = X2.toarray()\n",
    "#print (len(list_vector_P_Neu))"
   ]
  },
  {
   "cell_type": "code",
   "execution_count": 8,
   "metadata": {},
   "outputs": [],
   "source": [
    "# Bag of words για αρνητικα και ουδετερα\n",
    "vectorizer_Neg_Neu = CountVectorizer(max_features=200)\n",
    "X3 = vectorizer_Neg_Neu.fit_transform(Neg_Neu_tweets) ###\n",
    "\n",
    "\n",
    "#print (X3.shape)\n",
    "list_vector_Neg_Neu = X3.toarray()\n",
    "#print (len(list_vector_Neg_Neu))"
   ]
  },
  {
   "cell_type": "code",
   "execution_count": 9,
   "metadata": {},
   "outputs": [],
   "source": [
    "#Bag of words για όλα τα train και test\n",
    "vectorizer_train = CountVectorizer(max_features=200)\n",
    "X_train = vectorizer_train.fit_transform(tweetList)\n",
    "list_train = X_train.toarray()\n",
    "\n",
    "\n",
    "vectorizer_test = CountVectorizer(max_features=200)\n",
    "X_test = vectorizer_test.fit_transform(test_tweetList)\n",
    "list_test = X_test.toarray()"
   ]
  },
  {
   "cell_type": "markdown",
   "metadata": {},
   "source": [
    "Κάνουμε ΚΝΝ."
   ]
  },
  {
   "cell_type": "markdown",
   "metadata": {},
   "source": [
    "Χρήση της predict() για τα δεδομένα του test"
   ]
  },
  {
   "cell_type": "code",
   "execution_count": 10,
   "metadata": {},
   "outputs": [],
   "source": [
    "# εκπαιδευω μονο για θετικα και αρνητικα\n",
    "\n",
    "knn1 = KNeighborsClassifier(algorithm='brute', n_neighbors=1)\n",
    "knn1.fit(list_vector_P_Neg, Pos_Neg_tweets_resul) \n",
    "\n",
    "# κανουμε predict  και τα train και τα test\n",
    "results_1 = knn1.predict_proba(X_train)\n",
    "results_4 = knn1.predict_proba(X_test)"
   ]
  },
  {
   "cell_type": "code",
   "execution_count": 11,
   "metadata": {},
   "outputs": [],
   "source": [
    "# εκπαιδευω μόνο για θετιά και ουδέτερα\n",
    "\n",
    "knn2 = KNeighborsClassifier(algorithm='brute', n_neighbors=1)\n",
    "knn2.fit(list_vector_P_Neu, Pos_Neu_tweets_resul)\n",
    "\n",
    "results_2 = knn2.predict_proba(X_train)\n",
    "results_5 = knn2.predict_proba(X_test)"
   ]
  },
  {
   "cell_type": "code",
   "execution_count": 12,
   "metadata": {},
   "outputs": [],
   "source": [
    "# εκπαιδεύω μόνο για αρνητικά και ουδετερα\n",
    "\n",
    "knn3 = KNeighborsClassifier(algorithm='brute', n_neighbors=1)\n",
    "knn3.fit(list_vector_Neg_Neu, Neg_Neu_tweets_resul)\n",
    "\n",
    "results_3 = knn3.predict_proba(X_train)\n",
    "results_6 = knn3.predict_proba(X_test)"
   ]
  },
  {
   "cell_type": "markdown",
   "metadata": {},
   "source": [
    "Χρήση της predict() για τα δεδομένα του train"
   ]
  },
  {
   "cell_type": "code",
   "execution_count": 13,
   "metadata": {},
   "outputs": [],
   "source": [
    "knn_train = []\n",
    "knn_test = []\n",
    "\n",
    "\n",
    "for i in range(len(list_train)):\n",
    "    A = []\n",
    "    A.append(results_1[i][0])\n",
    "    A.append(results_1[i][1])\n",
    "    A.append(results_2[i][0])\n",
    "    A.append(results_2[i][1])\n",
    "    A.append(results_3[i][0])\n",
    "    A.append(results_3[i][1])\n",
    "    knn_train.append(A)\n",
    "    \n",
    "    \n",
    "for j in range(len(list_test)):\n",
    "    B = []\n",
    "    B.append(results_4[j][0])\n",
    "    B.append(results_4[j][1])\n",
    "    B.append(results_5[j][0])\n",
    "    B.append(results_5[j][1])\n",
    "    B.append(results_6[j][0])\n",
    "    B.append(results_6[j][1])\n",
    "    knn_test.append(B)"
   ]
  },
  {
   "cell_type": "code",
   "execution_count": 14,
   "metadata": {},
   "outputs": [
    {
     "name": "stdout",
     "output_type": "stream",
     "text": [
      "0.4786714425268642\n"
     ]
    }
   ],
   "source": [
    "Knn = KNeighborsClassifier(n_neighbors=200)\n",
    "Knn.fit(knn_train, results)\n",
    "\n",
    "apotel = Knn.predict(knn_test)\n",
    "print(metrics.accuracy_score(apotel, test_results))"
   ]
  },
  {
   "cell_type": "markdown",
   "metadata": {},
   "source": [
    "****\n",
    "****\n",
    "****\n",
    "#         Τελικά αποτελέσματα για τους διαφορετικούς ταξινομητές και διανύσματα.\n",
    "****\n",
    "****"
   ]
  },
  {
   "cell_type": "code",
   "execution_count": 5,
   "metadata": {},
   "outputs": [],
   "source": [
    "def graph_1(l1,l2):\n",
    "    \n",
    "    y_pos = np.arange(len(l1))\n",
    "    plt.barh(y_pos, l2, align='center', alpha=1)\n",
    "    plt.yticks(y_pos, l1)\n",
    "    plt.xlabel('Success')\n",
    "    plt.title('Results')\n",
    "\n",
    "x = []\n",
    "y = []\n",
    "x.append(0.36)\n",
    "x.append(0.33)\n",
    "x.append(0.56)\n",
    "x.append(0.58)\n",
    "\n",
    "x.append(0.48)\n",
    "x.append(0.48)\n",
    "x.append(0.57)\n",
    "x.append(0.56)\n",
    "\n",
    "x.append(0.47)\n",
    "\n",
    "y.append(\"SVM - BOW\")\n",
    "y.append(\"SVM - TfIdf\")\n",
    "y.append(\"SVM - Embeddings\")\n",
    "y.append(\"SVM - Embeddings + features\")\n",
    "\n",
    "y.append(\"KNN - BOW\")\n",
    "y.append(\"KNN - TfIdf\")\n",
    "y.append(\"KNN - Embeddings\")\n",
    "y.append(\"KNN - Embeddings + features\")\n",
    "\n",
    "y.append(\"RR - BOW\")"
   ]
  },
  {
   "cell_type": "markdown",
   "metadata": {},
   "source": [
    "*********\n",
    "*********"
   ]
  },
  {
   "cell_type": "code",
   "execution_count": 6,
   "metadata": {},
   "outputs": [
    {
     "data": {
      "image/png": "[encoded data removed]",
      "text/plain": [
       "<Figure size 432x288 with 1 Axes>"
      ]
     },
     "metadata": {
      "needs_background": "light"
     },
     "output_type": "display_data"
    }
   ],
   "source": [
    "graph_1(y,x)"
   ]
  },
  {
   "cell_type": "markdown",
   "metadata": {},
   "source": [
    "Συγκεκριμένα : <br>\n",
    "\n",
    "Για KNN - BOW         έχουμε 48% επιτυχία <br>\n",
    "Για KNN - TfIdf       έχουμε 48% επιτυχία <br>\n",
    "Για KNN - Embeddings  έχουμε 57% επιτυχία <br>\n",
    "Για ΚΝΝ - Embeddings + new features  έχουμε 56% επιτυχία <br>\n",
    "<br>\n",
    "Για SVM - BOW         έχουμε 36% επιτυχία <br>\n",
    "Για SVM - TfIdf       έχουμε 33% επιτυχία <br>\n",
    "Για SVM - Embeddings  έχουμε 56% επιτυχία <br>\n",
    "Για SVM - Embeddings + new features  έχουμε 58% επιτυχία <br>\n",
    "\n",
    "Για Round Robin - BOW έχουμε 47% επιτυχία  <br>\n",
    "<br>\n",
    "<br>\n",
    "Συμπεράσματα : <br>\n",
    "<br>\n",
    "Βλέπουμε οτι στις περιπτώσεις των Embeddings τόσο για τον ΚΝΝ όσο και για τον SVM <br>\n",
    "είμαστε αρκετά παραπάνω απο το 33%,αυτό σημαίνει οτι το αποτέλεσμα δεν προκύπτει τυχαία. <br>\n",
    "Επίσης και για την μέθοδο BOW και για τον ταξινομητή ΚΝΝ πειραματίζοντας με τον αριθμό των γειτόνων <br>\n",
    "βλέπουμε οτι δεν έχει άσχημο αποτέλεσμα."
   ]
  },
  {
   "cell_type": "code",
   "execution_count": null,
   "metadata": {},
   "outputs": [],
   "source": []
  }
 ],
 "metadata": {
  "kernelspec": {
   "display_name": "Python 3",
   "language": "python",
   "name": "python3"
  },
  "language_info": {
   "codemirror_mode": {
    "name": "ipython",
    "version": 3
   },
   "file_extension": ".py",
   "mimetype": "text/x-python",
   "name": "python",
   "nbconvert_exporter": "python",
   "pygments_lexer": "ipython3",
   "version": "3.7.1"
  }
 },
 "nbformat": 4,
 "nbformat_minor": 2
}
